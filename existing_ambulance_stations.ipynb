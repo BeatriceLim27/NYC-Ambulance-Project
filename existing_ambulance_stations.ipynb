{
 "cells": [
  {
   "cell_type": "code",
   "execution_count": 2,
   "metadata": {},
   "outputs": [],
   "source": [
    "# Import libraries\n",
    "import pandas as pd\n",
    "import datetime\n",
    "from geopy.distance import geodesic\n",
    "import folium\n",
    "from math import radians, sin, cos, sqrt, atan2\n",
    "from sodapy import Socrata"
   ]
  },
  {
   "cell_type": "markdown",
   "metadata": {},
   "source": [
    "### Data extraction from Socrata using SQL & data cleaning"
   ]
  },
  {
   "cell_type": "code",
   "execution_count": 5,
   "metadata": {},
   "outputs": [
    {
     "name": "stderr",
     "output_type": "stream",
     "text": [
      "WARNING:root:Requests made without an app_token will be subject to strict throttling limits.\n"
     ]
    }
   ],
   "source": [
    "# Connect to the Socrata API\n",
    "client = Socrata(\"data.cityofnewyork.us\", None)\n",
    "\n",
    "# Define the current date and one year ago\n",
    "today = datetime.date.today()\n",
    "one_year_ago = today - datetime.timedelta(days=365)\n",
    "\n",
    "# Query the collisions in all boroughs\n",
    "query_params = (\n",
    "    f\"(number_of_persons_injured>0 OR number_of_persons_killed>0) AND \"\n",
    "    f\"crash_date>='{one_year_ago}'\"\n",
    ")\n",
    "\n",
    "# Query the data\n",
    "results = client.get(\"h9gi-nx95\", where=query_params, limit=10000)\n",
    "\n",
    "# Convert the results into a DataFrame\n",
    "df = pd.DataFrame.from_records(results)\n",
    "\n",
    "# Clean the data and ensure correct types\n",
    "df['latitude'] = df['latitude'].astype(float)\n",
    "df['longitude'] = df['longitude'].astype(float)\n",
    "\n",
    "# Remove rows with missing latitude or longitude\n",
    "df = df.dropna(subset=[\"latitude\", \"longitude\"])\n",
    "\n",
    "# Query ambulance stations in all boroughs\n",
    "query_params = \"factype='AMBULANCE STATION'\"\n",
    "ambulance_stations = client.get(\"ji82-xba5\", where=query_params)\n",
    "\n",
    "# Convert the ambulance station data into a DataFrame\n",
    "ambulance_stations_df = pd.DataFrame.from_records(ambulance_stations)\n",
    "ambulance_stations_df['latitude'] = ambulance_stations_df['latitude'].astype(float)\n",
    "ambulance_stations_df['longitude'] = ambulance_stations_df['longitude'].astype(float)\n",
    "\n",
    "# Query hospitals in all boroughs\n",
    "query_params = \"factype='HOSPITAL'\"\n",
    "hospitals = client.get(\"ji82-xba5\", where=query_params)\n",
    "\n",
    "# Convert the hospital data into a DataFrame\n",
    "hospitals_df = pd.DataFrame.from_records(hospitals)\n",
    "hospitals_df['latitude'] = hospitals_df['latitude'].astype(float)\n",
    "hospitals_df['longitude'] = hospitals_df['longitude'].astype(float)"
   ]
  },
  {
   "cell_type": "markdown",
   "metadata": {},
   "source": [
    "### Create new function to calculate the respomse time & identify overburdened stations"
   ]
  },
  {
   "cell_type": "code",
   "execution_count": 6,
   "metadata": {},
   "outputs": [
    {
     "name": "stdout",
     "output_type": "stream",
     "text": [
      "The ambulance station that needs the most help is: FDNY EMS CMND - SEAVIEW CAMPUS\n",
      "Highest average response time (meters): 48540.27\n"
     ]
    }
   ],
   "source": [
    "# Haversine function for distance calculation\n",
    "def haversine(lat1, lon1, lat2, lon2):\n",
    "    R = 6371000  # Earth's radius in meters\n",
    "    phi1, phi2 = radians(lat1), radians(lat2)\n",
    "    dphi = radians(lat2 - lat1)\n",
    "    dlambda = radians(lon2 - lon1)\n",
    "    a = sin(dphi / 2) ** 2 + cos(phi1) * cos(phi2) * sin(dlambda / 2) ** 2\n",
    "    return R * 2 * atan2(sqrt(a), sqrt(1 - a))\n",
    "\n",
    "# Function to calculate total response time for an ambulance station based on collision proximity\n",
    "def calculate_response_time(station, collisions_df):\n",
    "    station_location = (station['latitude'], station['longitude'])\n",
    "    total_distance = 0\n",
    "    total_collisions = 0\n",
    "    \n",
    "    for _, collision in collisions_df.iterrows():\n",
    "        collision_location = (collision['latitude'], collision['longitude'])\n",
    "        distance = haversine(station_location[0], station_location[1], collision_location[0], collision_location[1])\n",
    "        total_distance += distance\n",
    "        total_collisions += 1\n",
    "    \n",
    "    if total_collisions == 0:\n",
    "        return 0  # No collisions in the area\n",
    "    else:\n",
    "        return total_distance / total_collisions  # Average response time\n",
    "\n",
    "# Function to find the most overburdened ambulance station (highest response time)\n",
    "def find_most_overburdened_station(ambulance_stations_df, collisions_df):\n",
    "    highest_response_time = 0\n",
    "    most_overburdened_station = None\n",
    "    \n",
    "    for _, station in ambulance_stations_df.iterrows():\n",
    "        response_time = calculate_response_time(station, collisions_df)\n",
    "        if response_time > highest_response_time:\n",
    "            highest_response_time = response_time\n",
    "            most_overburdened_station = station\n",
    "            \n",
    "    return most_overburdened_station, highest_response_time\n",
    "\n",
    "# Identify the most overburdened ambulance station\n",
    "most_overburdened_station, highest_response_time = find_most_overburdened_station(ambulance_stations_df, df)\n",
    "\n",
    "print(f\"The ambulance station that needs the most help is: {most_overburdened_station['facname']}\")\n",
    "print(f\"Highest average response time (meters): {highest_response_time:.2f}\")\n",
    "\n"
   ]
  },
  {
   "cell_type": "markdown",
   "metadata": {},
   "source": [
    "### Data visualisation using Folium map"
   ]
  },
  {
   "cell_type": "code",
   "execution_count": 14,
   "metadata": {},
   "outputs": [],
   "source": [
    "# Create the Folium map centered around NYC\n",
    "collision_map = folium.Map(location=[40.7128, -74.0060], zoom_start=10)  # Default zoom for NYC\n",
    "\n",
    "# Initialize bounds for collision markers\n",
    "collision_bounds = []\n",
    "\n",
    "# Add ambulance station markers to the map\n",
    "for _, row in ambulance_stations_df.iterrows():\n",
    "    if row['facname'] == most_overburdened_station['facname']:\n",
    "        # Highlight the most overburdened station with red color\n",
    "        color = 'red'\n",
    "        popup_content = (\n",
    "            f\"<b>Borough:</b> {row['boro']}<br>\"\n",
    "            f\"<b>Ambulance Station:</b> {row['facname']}<br>\"\n",
    "            f\"<b>Highest Avg Response Time:</b> {highest_response_time:.2f} m\"\n",
    "        )\n",
    "    else:\n",
    "        # Normal ambulance stations with blue color\n",
    "        color = 'blue'\n",
    "        popup_content = (\n",
    "            f\"<b>Borough:</b> {row['boro']}<br>\"\n",
    "            f\"<b>Ambulance Station:</b> {row['facname']}<br>\"\n",
    "        )\n",
    "    \n",
    "    folium.Marker(\n",
    "        location=[row['latitude'], row['longitude']],\n",
    "        popup=popup_content,\n",
    "        icon=folium.Icon(color=color, icon='ambulance', prefix='fa')\n",
    "    ).add_to(collision_map)\n",
    "\n",
    "# Add collision markers with grey color and track bounds\n",
    "for _, row in df.iterrows():\n",
    "    folium.CircleMarker(\n",
    "        location=[row['latitude'], row['longitude']],\n",
    "        radius=3,\n",
    "        color='grey',  # Set marker color to grey\n",
    "        fill=True,\n",
    "        fill_color='grey',  # Set fill color to grey\n",
    "        fill_opacity=0.6\n",
    "    ).add_to(collision_map)\n",
    "    # Add marker coordinates to bounds\n",
    "    collision_bounds.append([row['latitude'], row['longitude']])\n",
    "\n",
    "# Set the bounds for the entire view to show only the five boroughs of NYC\n",
    "boroughs_bounds = [\n",
    "    [40.4774, -74.2591],  # South-West corner of NYC (approximately)\n",
    "    [40.9176, -73.7004]   # North-East corner of NYC (approximately)\n",
    "]\n",
    "\n",
    "# Adjust map view to fit all boroughs\n",
    "collision_map.fit_bounds(boroughs_bounds)\n",
    "\n",
    "# Save the map to an HTML file\n",
    "collision_map.save(\"nyc_ambulance_station_map.html\")"
   ]
  },
  {
   "cell_type": "code",
   "execution_count": null,
   "metadata": {},
   "outputs": [],
   "source": []
  }
 ],
 "metadata": {
  "kernelspec": {
   "display_name": ".venv",
   "language": "python",
   "name": "python3"
  },
  "language_info": {
   "codemirror_mode": {
    "name": "ipython",
    "version": 3
   },
   "file_extension": ".py",
   "mimetype": "text/x-python",
   "name": "python",
   "nbconvert_exporter": "python",
   "pygments_lexer": "ipython3",
   "version": "3.12.6"
  }
 },
 "nbformat": 4,
 "nbformat_minor": 2
}
